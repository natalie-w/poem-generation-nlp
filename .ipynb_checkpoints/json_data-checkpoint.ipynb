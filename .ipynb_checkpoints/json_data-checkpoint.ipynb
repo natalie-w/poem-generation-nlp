{
 "cells": [
  {
   "cell_type": "code",
   "execution_count": 1,
   "metadata": {},
   "outputs": [
    {
     "name": "stderr",
     "output_type": "stream",
     "text": [
      "IOPub data rate exceeded.\n",
      "The notebook server will temporarily stop sending output\n",
      "to the client in order to avoid crashing it.\n",
      "To change this limit, set the config variable\n",
      "`--NotebookApp.iopub_data_rate_limit`.\n",
      "\n",
      "Current values:\n",
      "NotebookApp.iopub_data_rate_limit=1000000.0 (bytes/sec)\n",
      "NotebookApp.rate_limit_window=3.0 (secs)\n",
      "\n"
     ]
    }
   ],
   "source": [
    "## referenced https://www.guru99.com/reading-and-writing-files-in-python.html\n",
    "\n",
    "import urllib.request, json \n",
    "\n",
    "with urllib.request.urlopen(\"https://raw.githubusercontent.com/researchmm/img2poem/master/data/unim_poem.json\") as url:\n",
    "    data = json.loads(url.read().decode())\n",
    "#     print(data)"
   ]
  },
  {
   "cell_type": "code",
   "execution_count": 3,
   "metadata": {},
   "outputs": [
    {
     "data": {
      "text/plain": [
       "{'poem': 'that crazed girl improvising her music\\nher poetry dancing upon the shore\\nher soul in division from itself\\nclimbing falling she knew not where\\nhiding amid the cargo of a steamship\\nher knee-cap broken that girl i declare\\na beautiful lofty thing or a thing\\nheroically lost heroically found',\n",
       " 'id': 0}"
      ]
     },
     "execution_count": 3,
     "metadata": {},
     "output_type": "execute_result"
    }
   ],
   "source": [
    "data[0]"
   ]
  },
  {
   "cell_type": "code",
   "execution_count": 4,
   "metadata": {},
   "outputs": [
    {
     "data": {
      "text/plain": [
       "93265"
      ]
     },
     "execution_count": 4,
     "metadata": {},
     "output_type": "execute_result"
    }
   ],
   "source": [
    "len(data)"
   ]
  },
  {
   "cell_type": "code",
   "execution_count": 10,
   "metadata": {},
   "outputs": [],
   "source": [
    "# create file poems.txt and write to it\n",
    "f = open(\"poems.txt\", \"w+\")\n",
    "\n",
    "# add poems from json data and end of text token on new line\n",
    "for poem in data:\n",
    "    f.write(poem[\"poem\"])\n",
    "    f.write(\"\\n<|endoftext|>\\n\")\n",
    "\n",
    "# close file\n",
    "f.close()"
   ]
  },
  {
   "cell_type": "code",
   "execution_count": null,
   "metadata": {},
   "outputs": [],
   "source": []
  }
 ],
 "metadata": {
  "kernelspec": {
   "display_name": "Python 3",
   "language": "python",
   "name": "python3"
  },
  "language_info": {
   "codemirror_mode": {
    "name": "ipython",
    "version": 3
   },
   "file_extension": ".py",
   "mimetype": "text/x-python",
   "name": "python",
   "nbconvert_exporter": "python",
   "pygments_lexer": "ipython3",
   "version": "3.7.3"
  }
 },
 "nbformat": 4,
 "nbformat_minor": 4
}
